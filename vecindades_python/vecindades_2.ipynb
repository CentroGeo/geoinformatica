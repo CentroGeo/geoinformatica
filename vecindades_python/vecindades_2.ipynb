{
 "cells": [
  {
   "cell_type": "markdown",
   "metadata": {},
   "source": [
    "# Parte 2. Calculos en vecindades\n",
    "\n",
    "En la primera parte del taller trabajamos los datos para calcular las variables que nos interesan y agruparlas por AGEB. Ahora, en esta segunda parte, vamos a partir de los datos ya procesados y vamos a realizar algunos cálculos a partir de los valores en los polígonos vecinos.\n",
    "\n",
    "El primer paso es _encapsular_  el preproceso de los datos en una función, de esta manera podemos ejecutar todo el _flujo_ en una celda en este Notebook. En el archivo `preproceso.py` de esta carpeta pueden ver la función que realiza todo el trabajo.\n",
    "\n",
    "Para importar la función aquí, hacemos uso de la estructura de _paquetes_ (packages) de Python: siempre que una carpeta contenga un archivo con el nombre `__init__.py`, esa carpeta se convierte automáticamente en un paquete y permite importar diréctamente todas las funciones (o clases) definidas en los archivos que contiene.\n",
    "\n",
    "En la siguiente celda realizamos todo el trabajo de preprocesamiento\n",
    "\n",
    "**Nota 1:** la declaración `pd.options.mode.chained_assignment = None` sirve para suprimir una advertencia de Pandas sobre la forma en la que asignamos valores a nuevas columnas, en este caso (y en muchos otros), esa advertencia es espúrea, sin embargo, no está de más que lean [esto](http://pandas.pydata.org/pandas-docs/stable/indexing.html#indexing-view-versus-copy)\n",
    "\n",
    "**Nota 2:** si se fijan, en el preproceso removimos algunas filas, por lo que el índice del DataFrame no es consecutivo, esto va a ser importante más adelante, por lo que nos conviene _resetear_ el índice para que se vuelva a calcular como un consecutivo"
   ]
  },
  {
   "cell_type": "code",
   "execution_count": 30,
   "metadata": {},
   "outputs": [
    {
     "name": "stdout",
     "output_type": "stream",
     "text": [
      "si\n"
     ]
    },
    {
     "data": {
      "text/html": [
       "<div>\n",
       "<style>\n",
       "    .dataframe thead tr:only-child th {\n",
       "        text-align: right;\n",
       "    }\n",
       "\n",
       "    .dataframe thead th {\n",
       "        text-align: left;\n",
       "    }\n",
       "\n",
       "    .dataframe tbody tr th {\n",
       "        vertical-align: top;\n",
       "    }\n",
       "</style>\n",
       "<table border=\"1\" class=\"dataframe\">\n",
       "  <thead>\n",
       "    <tr style=\"text-align: right;\">\n",
       "      <th></th>\n",
       "      <th>CVEGEO</th>\n",
       "      <th>geometry</th>\n",
       "      <th>clase_comercio</th>\n",
       "      <th>clase_ocio</th>\n",
       "      <th>clase_oficinas</th>\n",
       "    </tr>\n",
       "  </thead>\n",
       "  <tbody>\n",
       "    <tr>\n",
       "      <th>0</th>\n",
       "      <td>0900200010010</td>\n",
       "      <td>POLYGON ((2792673.308524352 837911.4750908648,...</td>\n",
       "      <td>68.0</td>\n",
       "      <td>24.0</td>\n",
       "      <td>6.0</td>\n",
       "    </tr>\n",
       "    <tr>\n",
       "      <th>1</th>\n",
       "      <td>0900200010025</td>\n",
       "      <td>POLYGON ((2793350.822773742 837765.3497706538,...</td>\n",
       "      <td>27.0</td>\n",
       "      <td>11.0</td>\n",
       "      <td>0.0</td>\n",
       "    </tr>\n",
       "    <tr>\n",
       "      <th>2</th>\n",
       "      <td>090020001003A</td>\n",
       "      <td>POLYGON ((2792311.17880615 837633.5167797694, ...</td>\n",
       "      <td>44.0</td>\n",
       "      <td>11.0</td>\n",
       "      <td>2.0</td>\n",
       "    </tr>\n",
       "    <tr>\n",
       "      <th>3</th>\n",
       "      <td>0900200010044</td>\n",
       "      <td>POLYGON ((2792448.206535 837485.6465441301, 27...</td>\n",
       "      <td>38.0</td>\n",
       "      <td>7.0</td>\n",
       "      <td>0.0</td>\n",
       "    </tr>\n",
       "    <tr>\n",
       "      <th>4</th>\n",
       "      <td>0900200010097</td>\n",
       "      <td>POLYGON ((2792415.238538118 836846.39013781, 2...</td>\n",
       "      <td>27.0</td>\n",
       "      <td>12.0</td>\n",
       "      <td>1.0</td>\n",
       "    </tr>\n",
       "  </tbody>\n",
       "</table>\n",
       "</div>"
      ],
      "text/plain": [
       "          CVEGEO                                           geometry  \\\n",
       "0  0900200010010  POLYGON ((2792673.308524352 837911.4750908648,...   \n",
       "1  0900200010025  POLYGON ((2793350.822773742 837765.3497706538,...   \n",
       "2  090020001003A  POLYGON ((2792311.17880615 837633.5167797694, ...   \n",
       "3  0900200010044  POLYGON ((2792448.206535 837485.6465441301, 27...   \n",
       "4  0900200010097  POLYGON ((2792415.238538118 836846.39013781, 2...   \n",
       "\n",
       "   clase_comercio  clase_ocio  clase_oficinas  \n",
       "0            68.0        24.0             6.0  \n",
       "1            27.0        11.0             0.0  \n",
       "2            44.0        11.0             2.0  \n",
       "3            38.0         7.0             0.0  \n",
       "4            27.0        12.0             1.0  "
      ]
     },
     "execution_count": 30,
     "metadata": {},
     "output_type": "execute_result"
    }
   ],
   "source": [
    "import pandas as pd\n",
    "import geopandas as gpd\n",
    "from preproceso import preprocesa\n",
    "pd.options.mode.chained_assignment = None\n",
    "\n",
    "denue = gpd.read_file(\"datos/DENUE_INEGI_09_.shp\")\n",
    "agebs = gpd.read_file(\"datos/ageb_urb.shp\")\n",
    "usos_suelo = preprocesa(denue, agebs)\n",
    "usos_suelo.reset_index(drop=True, inplace=True)\n",
    "usos_suelo.head()"
   ]
  },
  {
   "cell_type": "markdown",
   "metadata": {},
   "source": [
    "Como pueden ver, en la variable usos_suelo tenemos ya calculadas todas nuestras variables de interés, ahora lo que necesitamos es, para cada fila de nuestro GeoDataFrame, saber cuáles son los polígnos vecinos.\n",
    "\n",
    "Para esto, vamos a utilizar la librería [PySal](http://pysal.readthedocs.io/en/latest/index.html), que provee un conjunto de métodos de análisis espacial. En particular, nos interesa la funcionalidad de crear matrices de _pesos_ espaciales.\n",
    "\n",
    "PySal está desarrollado para trabajar en conjunto con GeoPandas, de modo que podemos pedir la matriz de pesos directamente del GeoDataFrame y examinar el objeto que nos regresa:"
   ]
  },
  {
   "cell_type": "code",
   "execution_count": 31,
   "metadata": {},
   "outputs": [
    {
     "name": "stdout",
     "output_type": "stream",
     "text": [
      "2394\n",
      "[1.0, 1.0]\n",
      "[1, 2]\n",
      "[3]\n",
      "[(0, 1), (1, 33), (2, 65), (3, 150), (4, 355), (5, 527), (6, 522), (7, 356), (8, 214), (9, 82), (10, 49), (11, 12), (12, 10), (13, 5), (14, 2), (15, 5), (16, 2), (17, 2), (18, 0), (19, 0), (20, 1), (21, 0), (22, 0), (23, 0), (24, 0), (25, 0), (26, 1)]\n"
     ]
    },
    {
     "name": "stderr",
     "output_type": "stream",
     "text": [
      "/home/plablo/miniconda3/envs/geoinformatica/lib/python3.6/site-packages/pysal/weights/weights.py:186: UserWarning: There is one disconnected observation (no neighbors)\n",
      "  warnings.warn(\"There is one disconnected observation (no neighbors)\")\n",
      "/home/plablo/miniconda3/envs/geoinformatica/lib/python3.6/site-packages/pysal/weights/weights.py:187: UserWarning: Island id: 1224\n",
      "  warnings.warn(\"Island id: %s\" % str(self.islands[0]))\n"
     ]
    }
   ],
   "source": [
    "import pysal\n",
    "\n",
    "w = pysal.weights.Queen.from_dataframe(usos_suelo)\n",
    "print(w.n)\n",
    "print(w.weights[0])\n",
    "print(w.neighbors[0])\n",
    "print(w.neighbors[5])\n",
    "print(w.histogram)"
   ]
  },
  {
   "cell_type": "markdown",
   "metadata": {},
   "source": [
    "Lo primero que hicimios fue importar la librería PySal. A continuación, claculamos la matriz de pesos `w` usandp vecindades de tipo Reina (en la documentación de PySal pueden consultar los diferentes tipos de vecindades y las fuentes de datos que pueden usar).\n",
    "\n",
    "* w.n nos dice la cantidad de renglones de la matriz\n",
    "* w.weights[0] nos dice los pesos que corresponden a los vecinos del elemento 0\n",
    "* w.neighbors[0] nos da la lista de vecinos de el elemento 0\n",
    "* w.histogram nos da el histograma de la matriz de adyacencia, es decir, cuántos elementos tienen x número de vecinos\n",
    "\n",
    "Como un ejercicio rápido vamos a graficar el histograma, sólo que esta vez, en lugar de usar `matplotlib` directamente, vamos a usar [seaborn](https://seaborn.pydata.org/), que es una librería para graficar datos estadíticos. Además de producir, de manera sencilla, graficas más _bonitas_ que matplotlib, seaborn tiene una sintaxis similar a la de ggplot2 de R.\n",
    "\n",
    "Primero convertimos el histograma que nos da PySal en DataFrame:"
   ]
  },
  {
   "cell_type": "code",
   "execution_count": 32,
   "metadata": {},
   "outputs": [
    {
     "data": {
      "text/html": [
       "<div>\n",
       "<style>\n",
       "    .dataframe thead tr:only-child th {\n",
       "        text-align: right;\n",
       "    }\n",
       "\n",
       "    .dataframe thead th {\n",
       "        text-align: left;\n",
       "    }\n",
       "\n",
       "    .dataframe tbody tr th {\n",
       "        vertical-align: top;\n",
       "    }\n",
       "</style>\n",
       "<table border=\"1\" class=\"dataframe\">\n",
       "  <thead>\n",
       "    <tr style=\"text-align: right;\">\n",
       "      <th></th>\n",
       "      <th>vecinos</th>\n",
       "      <th>cuenta</th>\n",
       "    </tr>\n",
       "  </thead>\n",
       "  <tbody>\n",
       "    <tr>\n",
       "      <th>0</th>\n",
       "      <td>0</td>\n",
       "      <td>1</td>\n",
       "    </tr>\n",
       "    <tr>\n",
       "      <th>1</th>\n",
       "      <td>1</td>\n",
       "      <td>33</td>\n",
       "    </tr>\n",
       "    <tr>\n",
       "      <th>2</th>\n",
       "      <td>2</td>\n",
       "      <td>65</td>\n",
       "    </tr>\n",
       "    <tr>\n",
       "      <th>3</th>\n",
       "      <td>3</td>\n",
       "      <td>150</td>\n",
       "    </tr>\n",
       "    <tr>\n",
       "      <th>4</th>\n",
       "      <td>4</td>\n",
       "      <td>355</td>\n",
       "    </tr>\n",
       "  </tbody>\n",
       "</table>\n",
       "</div>"
      ],
      "text/plain": [
       "   vecinos  cuenta\n",
       "0        0       1\n",
       "1        1      33\n",
       "2        2      65\n",
       "3        3     150\n",
       "4        4     355"
      ]
     },
     "execution_count": 32,
     "metadata": {},
     "output_type": "execute_result"
    }
   ],
   "source": [
    "freqs = pd.DataFrame(w.histogram, columns=['vecinos', 'cuenta'])\n",
    "freqs.head()"
   ]
  },
  {
   "cell_type": "markdown",
   "metadata": {},
   "source": [
    "Y luego lo graficamos:"
   ]
  },
  {
   "cell_type": "code",
   "execution_count": 33,
   "metadata": {},
   "outputs": [
    {
     "data": {
      "text/plain": [
       "<matplotlib.axes._subplots.AxesSubplot at 0x7fb2f7f0d978>"
      ]
     },
     "execution_count": 33,
     "metadata": {},
     "output_type": "execute_result"
    },
    {
     "data": {
      "image/png": "[encoded data removed]",
      "text/plain": [
       "<matplotlib.figure.Figure at 0x7fb2f7f0d400>"
      ]
     },
     "metadata": {},
     "output_type": "display_data"
    }
   ],
   "source": [
    "%matplotlib inline\n",
    "import seaborn as sns\n",
    "\n",
    "sns.barplot(x='vecinos', y='cuenta', data=freqs)"
   ]
  },
  {
   "cell_type": "markdown",
   "metadata": {},
   "source": [
    "## Intensidad\n",
    "\n",
    "Después de este intermedio, ahora sí vamos a hacer nuestro primer cómputo en vecindades. Vamos a comenzar por la **intensidad**.\n",
    "\n",
    "La intensidad es simplemente la cantidad de actividades en un área determinada. En nuestro caso, vamos a calcular el total de actividades (de cualquier tipo) que hay en la vecindad inmediata de cada AGEB (si lo piensan un poco, esto se parece bastante a los filtros tipo _blur_ en procesamiento de imágenes).\n",
    "\n",
    "Para calcular la _intensidad_, lo que necesitamos hacer es recorrer la lista de elementos del GeoDataFrame y, para cada elemento, obtener la lista de vecinos, sacar sus variables y sumarlas.\n",
    "\n",
    "Antes de calcular, vamos a eliminar el elemento que no tiene ningún vecino, reindexar los datos y volver a calcular los pesos (para que los índices de la mátriz de pesos y del DataFrame coincidan):"
   ]
  },
  {
   "cell_type": "code",
   "execution_count": 43,
   "metadata": {},
   "outputs": [],
   "source": [
    "usos_suelo = usos_suelo.drop(usos_suelo.index[[1224]])\n",
    "usos_suelo.reset_index(drop=True, inplace=True)\n",
    "w = pysal.weights.Queen.from_dataframe(usos_suelo)"
   ]
  },
  {
   "cell_type": "markdown",
   "metadata": {},
   "source": [
    "Ahora sí, recorremos la lista de vecinos y calculamos la intensidad para cada elemento:"
   ]
  },
  {
   "cell_type": "code",
   "execution_count": 37,
   "metadata": {},
   "outputs": [
    {
     "data": {
      "text/plain": [
       "array([[ 68.,  24.,   6.]])"
      ]
     },
     "execution_count": 37,
     "metadata": {},
     "output_type": "execute_result"
    }
   ],
   "source": [
    "usos_suelo.iloc[[0]][['clase_comercio', 'clase_ocio', 'clase_oficinas']].as_matrix()"
   ]
  },
  {
   "cell_type": "code",
   "execution_count": 45,
   "metadata": {},
   "outputs": [
    {
     "name": "stdout",
     "output_type": "stream",
     "text": [
      "[(0, 136.0), (1, 193.0), (2, 193.0), (3, 98.0), (4, 238.0), (5, 98.0), (6, 803.0), (7, 687.0), (8, 238.0), (9, 335.0)]\n"
     ]
    }
   ],
   "source": [
    "import numpy as np\n",
    "\n",
    "intensidad =[]\n",
    "for i in range(0, w.n):\n",
    "    vecinos = w.neighbors[i]\n",
    "    total = 0.0\n",
    "    suma = np.zeros((3),dtype=np.float)\n",
    "    valores = usos_suelo.iloc[[i]][['clase_comercio', 'clase_ocio', 'clase_oficinas']].as_matrix()\n",
    "    for j in range(0,len(vecinos)):    \n",
    "        data = usos_suelo.iloc[[j]][['clase_comercio', 'clase_ocio', 'clase_oficinas']].as_matrix()\n",
    "        suma = suma + data\n",
    "        total += sum(data)\n",
    "    intensidad.append((i, sum(total)))\n",
    "\n",
    "print(intensidad[0:10])"
   ]
  },
  {
   "cell_type": "markdown",
   "metadata": {},
   "source": [
    "Al parecer lo que estamos haciendo es muy complicado, sin embargo, una vez más, si lo vemos con detenimiento es relativamente simple:\n",
    "\n",
    "* Primero estamos definiendo una lista vacía `intensidad` que nos va a servir para guardar los resultados\n",
    "* Luego, en el **for** externo, estamos recorriendo la matriz de adyacencia, entonces el índice del **for**, es el identificador de cada polígono\n",
    "* Inicializamos un _array_ de 3 entradas con zeros (esto nos va a servir para guardar la suma para cada uso de suelo)\n",
    "* Con _iloc_ tomamos la fila correspondiente en el dataframe y _as_matrix()_ convierte los valores de las columnas en un _array_\n",
    "* Recorremos en el **for** interno los vecinos de cada elemento y tomamos, como _array_, sus valores\n",
    "* Sumamos los _arrays_ entrada por entrada (esto realmente no es necesario aquí, pero va a ser útil más adelante cuando hagamos un cálculo más complejo)\n",
    "* A la salida de los dos **for**, agregamos a la lista _intensidad_ una _tupla_ con el índice y el valor de la intensidad\n",
    "\n",
    "Entonces, podemos convertir la lista _intensidad_ en un DataFrame para después unirlo con nuestros datos:"
   ]
  },
  {
   "cell_type": "code",
   "execution_count": 47,
   "metadata": {},
   "outputs": [
    {
     "data": {
      "text/html": [
       "<div>\n",
       "<style>\n",
       "    .dataframe thead tr:only-child th {\n",
       "        text-align: right;\n",
       "    }\n",
       "\n",
       "    .dataframe thead th {\n",
       "        text-align: left;\n",
       "    }\n",
       "\n",
       "    .dataframe tbody tr th {\n",
       "        vertical-align: top;\n",
       "    }\n",
       "</style>\n",
       "<table border=\"1\" class=\"dataframe\">\n",
       "  <thead>\n",
       "    <tr style=\"text-align: right;\">\n",
       "      <th></th>\n",
       "      <th>CVEGEO</th>\n",
       "      <th>geometry</th>\n",
       "      <th>clase_comercio</th>\n",
       "      <th>clase_ocio</th>\n",
       "      <th>clase_oficinas</th>\n",
       "      <th>gid</th>\n",
       "      <th>intensidad</th>\n",
       "    </tr>\n",
       "  </thead>\n",
       "  <tbody>\n",
       "    <tr>\n",
       "      <th>0</th>\n",
       "      <td>0900200010010</td>\n",
       "      <td>POLYGON ((2792673.308524352 837911.4750908648,...</td>\n",
       "      <td>68.0</td>\n",
       "      <td>24.0</td>\n",
       "      <td>6.0</td>\n",
       "      <td>0</td>\n",
       "      <td>136.0</td>\n",
       "    </tr>\n",
       "    <tr>\n",
       "      <th>1</th>\n",
       "      <td>0900200010025</td>\n",
       "      <td>POLYGON ((2793350.822773742 837765.3497706538,...</td>\n",
       "      <td>27.0</td>\n",
       "      <td>11.0</td>\n",
       "      <td>0.0</td>\n",
       "      <td>1</td>\n",
       "      <td>193.0</td>\n",
       "    </tr>\n",
       "    <tr>\n",
       "      <th>2</th>\n",
       "      <td>090020001003A</td>\n",
       "      <td>POLYGON ((2792311.17880615 837633.5167797694, ...</td>\n",
       "      <td>44.0</td>\n",
       "      <td>11.0</td>\n",
       "      <td>2.0</td>\n",
       "      <td>2</td>\n",
       "      <td>193.0</td>\n",
       "    </tr>\n",
       "    <tr>\n",
       "      <th>3</th>\n",
       "      <td>0900200010044</td>\n",
       "      <td>POLYGON ((2792448.206535 837485.6465441301, 27...</td>\n",
       "      <td>38.0</td>\n",
       "      <td>7.0</td>\n",
       "      <td>0.0</td>\n",
       "      <td>3</td>\n",
       "      <td>98.0</td>\n",
       "    </tr>\n",
       "    <tr>\n",
       "      <th>4</th>\n",
       "      <td>0900200010097</td>\n",
       "      <td>POLYGON ((2792415.238538118 836846.39013781, 2...</td>\n",
       "      <td>27.0</td>\n",
       "      <td>12.0</td>\n",
       "      <td>1.0</td>\n",
       "      <td>4</td>\n",
       "      <td>238.0</td>\n",
       "    </tr>\n",
       "  </tbody>\n",
       "</table>\n",
       "</div>"
      ],
      "text/plain": [
       "          CVEGEO                                           geometry  \\\n",
       "0  0900200010010  POLYGON ((2792673.308524352 837911.4750908648,...   \n",
       "1  0900200010025  POLYGON ((2793350.822773742 837765.3497706538,...   \n",
       "2  090020001003A  POLYGON ((2792311.17880615 837633.5167797694, ...   \n",
       "3  0900200010044  POLYGON ((2792448.206535 837485.6465441301, 27...   \n",
       "4  0900200010097  POLYGON ((2792415.238538118 836846.39013781, 2...   \n",
       "\n",
       "   clase_comercio  clase_ocio  clase_oficinas  gid  intensidad  \n",
       "0            68.0        24.0             6.0    0       136.0  \n",
       "1            27.0        11.0             0.0    1       193.0  \n",
       "2            44.0        11.0             2.0    2       193.0  \n",
       "3            38.0         7.0             0.0    3        98.0  \n",
       "4            27.0        12.0             1.0    4       238.0  "
      ]
     },
     "execution_count": 47,
     "metadata": {},
     "output_type": "execute_result"
    }
   ],
   "source": [
    "intensidad_df = pd.DataFrame(intensidad, columns=['gid', 'intensidad'])\n",
    "datos_intensidad = usos_suelo.merge(intensidad_df, left_index=True, right_on='gid', how='inner')\n",
    "datos_intensidad.head()"
   ]
  },
  {
   "cell_type": "markdown",
   "metadata": {},
   "source": [
    "### Ejercicio\n",
    "\n",
    "Hagan un mapa que destaque las diferencias en intensidad"
   ]
  },
  {
   "cell_type": "markdown",
   "metadata": {},
   "source": [
    "## Entropía\n",
    "\n",
    "La entropía es una medida de la mezcla de usos de suelo, está basada en la forma en la que se calcula la entropía en mecánica estadística:\n",
    "\n",
    "$$ E = \\sum\\limits_{j}{\\frac{p_{j}*ln(p_{j})}{ln(J)}} $$\n",
    "\n",
    "Donde $p_{j}$ representa la proporción del $j-esimo$ uso de suelo con respecto al total y $J$ es el número de usos de suelo considerados. Valores cercanos a 0 indican poca mezcla de usos de suelo y valores cercanos a -1 indican una mezcla balanceada\n",
    "\n",
    "Entonces, para calcular la entropía, basta con modificar un poco el **for** que usamos para calcular la intensidad:\n"
   ]
  },
  {
   "cell_type": "code",
   "execution_count": 52,
   "metadata": {},
   "outputs": [
    {
     "name": "stdout",
     "output_type": "stream",
     "text": [
      "[(0, -0.73761044698936673), (1, -0.7101258714069415), (2, -0.7101258714069415), (3, -0.76914734912267102), (4, -0.66874333578379019), (5, -0.76914734912267102), (6, -0.63675151842007982), (7, -0.65449672906648715), (8, -0.66874333578379019), (9, -0.66775970276322294)]\n"
     ]
    }
   ],
   "source": [
    "entropia =[]\n",
    "for i in range(0, w.n):\n",
    "    vecinos = w.neighbors[i]\n",
    "    total = 0.0\n",
    "    suma = np.zeros((3),dtype=np.float)\n",
    "    valores = usos_suelo.iloc[[i]][['clase_comercio', 'clase_ocio', 'clase_oficinas']].as_matrix()\n",
    "    for j in range(0,len(vecinos)):    \n",
    "        data = usos_suelo.iloc[[j]][['clase_comercio', 'clase_ocio', 'clase_oficinas']].as_matrix()\n",
    "        suma = suma + data\n",
    "        total += np.sum(data)\n",
    "    p = np.nan_to_num(suma/total)\n",
    "    lp = np.select([p == 0,p > 0],[p, np.log(p)])\n",
    "    entropia.append((i, np.sum(p*lp)))\n",
    "\n",
    "print(entropia[0:10])"
   ]
  },
  {
   "cell_type": "markdown",
   "metadata": {},
   "source": [
    "La forma de calcular es muy parecida a la _intensidad_ pero aquí hacemos uso de dos funciones extra de _numpy_:\n",
    "\n",
    "* `np.nan_to_num` convierte en 0 los Valores NaN (resultado de dividir por 0). Esto es necesario en caso de que hubiera AGEBS con 0 usos de suelo\n",
    "* `np.select([p == 0,p > 0],[p, np.log(p)])` selecciona, en caso de que el valor sea 0, deja el cero, pero si el valor es mayor que 0, entonces calcula el logaritmo (recuerden que el logaritmo de 0 no está definido)"
   ]
  },
  {
   "cell_type": "markdown",
   "metadata": {},
   "source": [
    "### Ejercicio\n",
    "\n",
    "Hagan mapas de entropía\n",
    "\n",
    "## Tarea\n",
    "\n",
    "Repitan todo el taller para un área metropolitana que escojan. Es necesario que hagan lo siguiente:\n",
    "\n",
    "* Extraer AGEBS y puntos del DENUE pra el área que escojan (lo pueden hacer en Arc o QGis)\n",
    "* Clasificar sus propios usos de suelo, es necesario que cambien las definiciones que usamos en el taller\n",
    "* Calcular intensidad y entropía\n",
    "\n",
    "La tarea se entrega de la siguiente forma:\n",
    "\n",
    "Una carpeta en zip con el código (en el formato de esta libreta) y los datos necesarios para correrlo. La tarea se acredita si el código corre."
   ]
  }
 ],
 "metadata": {
  "kernelspec": {
   "display_name": "Python 3",
   "language": "python",
   "name": "python3"
  },
  "language_info": {
   "codemirror_mode": {
    "name": "ipython",
    "version": 3
   },
   "file_extension": ".py",
   "mimetype": "text/x-python",
   "name": "python",
   "nbconvert_exporter": "python",
   "pygments_lexer": "ipython3",
   "version": "3.6.1"
  }
 },
 "nbformat": 4,
 "nbformat_minor": 1
}
